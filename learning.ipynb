{
 "cells": [
  {
   "cell_type": "code",
   "execution_count": null,
   "metadata": {},
   "outputs": [],
   "source": [
    "import torch\n",
    "import numpy as np"
   ]
  },
  {
   "cell_type": "markdown",
   "metadata": {},
   "source": [
    "# torch基础\n",
    "1. 通过多种方法生成Tensor\n",
    "2. tensor相关数据查看\n",
    "3. tensor和numpy之间转化\n",
    "4. GPU的相关内容"
   ]
  },
  {
   "cell_type": "code",
   "execution_count": null,
   "metadata": {},
   "outputs": [],
   "source": [
    "# torch learning\n",
    "x1 = torch.empty(4, 6, dtype=torch.float16)     # 未被初始化\n",
    "x2 = torch.randn(3, 5)                          # 正太分布，均值0，方差1\n",
    "x3 = torch.rand(3, 5)                           # 0~1之间\n",
    "x4 = torch.zeros(3, 5).float()                  # 全0\n",
    "x5 = torch.ones(3, 5).float()                   # 全1\n",
    "\n",
    "x6 = torch.tensor([[1, 2],[3, 4]])              # 自定义\n",
    "x7 = x4.new_ones(3, 5, dtype=torch.double)      # 通过其他数据集构建\n",
    "x8 = torch.rand_like(x5, dtype=torch.float)"
   ]
  },
  {
   "cell_type": "code",
   "execution_count": null,
   "metadata": {},
   "outputs": [],
   "source": [
    "y1 = x1.view(2, -1)\n",
    "y1\n",
    "print('y1 contains function:', dir(y1))"
   ]
  },
  {
   "cell_type": "code",
   "execution_count": null,
   "metadata": {},
   "outputs": [],
   "source": [
    "x1, x2, x3, x4, x5, x6, x7, x8,"
   ]
  },
  {
   "cell_type": "code",
   "execution_count": null,
   "metadata": {},
   "outputs": [],
   "source": [
    "# transform tensor to data\n",
    "x2.data\n",
    "x2.grad\n",
    "x2[1][1].item()  # 将其中一个张量转化为标量\n",
    "x2.size()\n",
    "x2.shape\n",
    "x2.numel()  # 张量中元素的总数\n",
    "dir(x2)"
   ]
  },
  {
   "cell_type": "code",
   "execution_count": null,
   "metadata": {},
   "outputs": [],
   "source": [
    "# conversion between numpy with tensor\n",
    "print('x2 to numpy:\\n', x2.numpy())\n",
    "y2 = np.ones((2, 3))\n",
    "print('y2:\\n', y2)\n",
    "print('y2 to tensor:\\n', torch.from_numpy(y2))"
   ]
  },
  {
   "cell_type": "code",
   "execution_count": null,
   "metadata": {},
   "outputs": [],
   "source": [
    "if torch.cuda.is_available():\n",
    "    device = torch.device('cuda')\n",
    "    y3 = torch.randn((2, 3), device=device)\n",
    "    xy3 = y3.to(device)\n",
    "    \n",
    "    print('xy3 in gpu is:', xy3)\n",
    "    print('xy3 in cpu is:', xy3.to('cpu', torch.double))\n",
    "    # GPU的tensor转numpy。需要通过cpu做桥梁\n",
    "    print('xy3 in numpu is:', xy3.cpu().data.numpy())\n",
    "else:\n",
    "    print('device is cpu')\n",
    "\n",
    "x6.cuda(device)\n",
    "x6.cuda(0)\n",
    "x6.device\n",
    "y3.device\n",
    "x6.to(y3.device)\n",
    "\n",
    "torch.cuda.device_count()               # 设备的GPU数量\n",
    "torch.cuda.get_device_name(0)           # 查看GPU的型号\n",
    "torch.cuda.current_device()             # 当前设备索引\n",
    "torch.cuda.get_device_capability(0)     # 当前设备计算能力\n",
    "torch.cuda.get_device_properties(0)     # 当前设备综合性能"
   ]
  },
  {
   "cell_type": "markdown",
   "metadata": {},
   "source": [
    "# 格式化输出\n"
   ]
  },
  {
   "cell_type": "code",
   "execution_count": 51,
   "metadata": {},
   "outputs": [
    {
     "name": "stdout",
     "output_type": "stream",
     "text": [
      "| Hello***** |\n",
      "| **Hello*** |\n",
      "| *****Hello |\n"
     ]
    }
   ],
   "source": [
    "# 左对齐，填充*\n",
    "print('|','Hello'.ljust(10,'*'), '|')\n",
    "# 居中对齐，填充*\n",
    "print('|','Hello'.center(10,'*'), '|')\n",
    "# 右对齐，填充*\n",
    "print('|','Hello'.rjust(10,'*'), '|')\n"
   ]
  },
  {
   "cell_type": "code",
   "execution_count": 54,
   "metadata": {},
   "outputs": [
    {
     "name": "stdout",
     "output_type": "stream",
     "text": [
      "\n",
      "Epoch     gpu_men   box       \n",
      "\n",
      "     Epoch   gpu_men       box\n"
     ]
    }
   ],
   "source": [
    "print(('\\n' + '%-10s'*3) % ('Epoch', 'gpu_men', 'box'))\n",
    "print(('\\n' + '%10s'*3) % ('Epoch', 'gpu_men', 'box'))"
   ]
  },
  {
   "cell_type": "code",
   "execution_count": 70,
   "metadata": {},
   "outputs": [
    {
     "name": "stdout",
     "output_type": "stream",
     "text": [
      "11111100110\n",
      "3746\n",
      "2022\n",
      "7e6\n",
      "ߦ\n",
      "2.022000e+03\n",
      "2022.2\n",
      "2022.000000\n",
      "2022\n",
      "   150.00%\n"
     ]
    }
   ],
   "source": [
    "print('{:b}'.format(2022))     # 二进制\n",
    "print('{:o}'.format(2022))    # 八进制\n",
    "print('{:d}'.format(2022))    # 十进制\n",
    "print('{:x}'.format(2022))    # 十六进制\n",
    "print('{:c}'.format(2022))    # 对应的Unicode字符串\n",
    "print('{:e}'.format(2022))    # 科学计数法\n",
    "print('{:g}'.format(2022.2))  # 小数\n",
    "print('{:f}'.format(2022))    # 浮点数\n",
    "print('{:n}'.format(2022))    # 当值为整数时和'd'相同，值为浮点数时和'g'相同。\n",
    "print('{:-10.2%}'.format(1.5))   # 百分数\n"
   ]
  }
 ],
 "metadata": {
  "kernelspec": {
   "display_name": "Python 3.8.13 ('pytorch1.10')",
   "language": "python",
   "name": "python3"
  },
  "language_info": {
   "codemirror_mode": {
    "name": "ipython",
    "version": 3
   },
   "file_extension": ".py",
   "mimetype": "text/x-python",
   "name": "python",
   "nbconvert_exporter": "python",
   "pygments_lexer": "ipython3",
   "version": "3.8.13"
  },
  "orig_nbformat": 4,
  "vscode": {
   "interpreter": {
    "hash": "81f6c2e79dcf7df8474ddb565df4942e434c2de3c617602b68d22732d03660af"
   }
  }
 },
 "nbformat": 4,
 "nbformat_minor": 2
}
