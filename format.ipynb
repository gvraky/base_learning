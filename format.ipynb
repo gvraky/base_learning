{
 "cells": [
  {
   "cell_type": "code",
   "execution_count": 1,
   "metadata": {},
   "outputs": [],
   "source": [
    "import torch\n",
    "import numpy as np"
   ]
  },
  {
   "cell_type": "markdown",
   "metadata": {},
   "source": [
    "# 格式化输出\n"
   ]
  },
  {
   "cell_type": "code",
   "execution_count": 2,
   "metadata": {},
   "outputs": [
    {
     "name": "stdout",
     "output_type": "stream",
     "text": [
      "| Hello***** |\n",
      "| **Hello*** |\n",
      "| *****Hello |\n"
     ]
    }
   ],
   "source": [
    "# 左对齐，填充*\n",
    "print('|','Hello'.ljust(10,'*'), '|')\n",
    "# 居中对齐，填充*\n",
    "print('|','Hello'.center(10,'*'), '|')\n",
    "# 右对齐，填充*\n",
    "print('|','Hello'.rjust(10,'*'), '|')\n"
   ]
  },
  {
   "cell_type": "code",
   "execution_count": 3,
   "metadata": {},
   "outputs": [
    {
     "name": "stdout",
     "output_type": "stream",
     "text": [
      " 150.00%  \n",
      "150.00%   \n",
      "   150.00%\n"
     ]
    }
   ],
   "source": [
    "print('{:^10.2%}'.format(1.5))\n",
    "print('{:<10.2%}'.format(1.5))\n",
    "print('{:>10.2%}'.format(1.5))\n"
   ]
  },
  {
   "cell_type": "code",
   "execution_count": 4,
   "metadata": {},
   "outputs": [
    {
     "name": "stdout",
     "output_type": "stream",
     "text": [
      "\n",
      "Epoch     gpu_men   box       \n",
      "\n",
      "     Epoch   gpu_men       box\n"
     ]
    }
   ],
   "source": [
    "print(('\\n' + '%-10s'*3) % ('Epoch', 'gpu_men', 'box'))\n",
    "print(('\\n' + '%10s'*3) % ('Epoch', 'gpu_men', 'box'))"
   ]
  },
  {
   "cell_type": "code",
   "execution_count": 5,
   "metadata": {},
   "outputs": [
    {
     "name": "stdout",
     "output_type": "stream",
     "text": [
      "11111100110\n",
      "3746\n",
      "2022\n",
      "7e6\n",
      "ߦ\n",
      "2.022000e+03\n",
      "2022.2\n",
      "2022.000000\n",
      "2022\n",
      "   150.00%\n"
     ]
    }
   ],
   "source": [
    "print('{:b}'.format(2022))     # 二进制\n",
    "print('{:o}'.format(2022))    # 八进制\n",
    "print('{:d}'.format(2022))    # 十进制\n",
    "print('{:x}'.format(2022))    # 十六进制\n",
    "print('{:c}'.format(2022))    # 对应的Unicode字符串\n",
    "print('{:e}'.format(2022))    # 科学计数法\n",
    "print('{:g}'.format(2022.2))  # 小数\n",
    "print('{:f}'.format(2022))    # 浮点数\n",
    "print('{:n}'.format(2022))    # 当值为整数时和'd'相同，值为浮点数时和'g'相同。\n",
    "print('{:-10.2%}'.format(1.5))   # 百分数"
   ]
  }
 ],
 "metadata": {
  "kernelspec": {
   "display_name": "Python 3.8.13 ('pytorch1.10')",
   "language": "python",
   "name": "python3"
  },
  "language_info": {
   "codemirror_mode": {
    "name": "ipython",
    "version": 3
   },
   "file_extension": ".py",
   "mimetype": "text/x-python",
   "name": "python",
   "nbconvert_exporter": "python",
   "pygments_lexer": "ipython3",
   "version": "3.8.13"
  },
  "orig_nbformat": 4,
  "vscode": {
   "interpreter": {
    "hash": "81f6c2e79dcf7df8474ddb565df4942e434c2de3c617602b68d22732d03660af"
   }
  }
 },
 "nbformat": 4,
 "nbformat_minor": 2
}
