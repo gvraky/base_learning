{
 "cells": [
  {
   "cell_type": "code",
   "execution_count": null,
   "metadata": {},
   "outputs": [],
   "source": [
    "# 打印列表\n",
    "listnum = [1,2,3,4,5,6]\n",
    "for num in listnum:\n",
    "    print(num, end=' ')\n",
    "print('\\n') \n",
    "for i in range(len(listnum)):\n",
    "     print(listnum[i], end=' ')\n",
    "print('\\n') \n",
    "for i,j in enumerate(listnum):\n",
    "     print('第{}个是{}'.format(i,j))"
   ]
  },
  {
   "cell_type": "code",
   "execution_count": null,
   "metadata": {},
   "outputs": [],
   "source": [
    "# 打印字典\n",
    "dict = {'1':'one','2':'two','3':'three'}\n",
    "for k, v in dict.items():\n",
    "    print(k, v)\n",
    "\n",
    "for k in dict:\n",
    "    print(k, dict[k])\n",
    "\n",
    "#依次打印key\n",
    "for key in dict.keys():\n",
    "    print('key = {}'.format(key))\n",
    "#依次打印value\n",
    "for value in dict.values():\n",
    "    print('value = {}'.format(value))"
   ]
  },
  {
   "cell_type": "code",
   "execution_count": 30,
   "metadata": {},
   "outputs": [
    {
     "name": "stdout",
     "output_type": "stream",
     "text": [
      "[('1', 'one'), ('2', 'two'), ('3', 'three')]\n",
      "['1', '3', '2']\n",
      "**********\n",
      "[('banana', 5), ('apple', 10), ('orange', 20)]\n",
      "['banana', 'apple', 'orange']\n",
      "**********\n"
     ]
    },
    {
     "data": {
      "text/plain": [
       "{'1': 'one', '2': 'two', '3': 'three'}"
      ]
     },
     "execution_count": 30,
     "metadata": {},
     "output_type": "execute_result"
    },
    {
     "data": {
      "text/plain": [
       "{'banana': 5, 'apple': 10, 'orange': 20}"
      ]
     },
     "execution_count": 30,
     "metadata": {},
     "output_type": "execute_result"
    }
   ],
   "source": [
    "# 字典排序\n",
    "## 按键排序\n",
    "dict1 = {'1':'one','3':'three', '2':'two'}\n",
    "print(sorted(dict1.items(), key=lambda x: x[0], reverse=False))\n",
    "print(sorted(dict1, key=dict1.get))\n",
    "dict1_sort = {i:dict1[i] for i in sorted(dict1)}\n",
    "\n",
    "print('*'*10)\n",
    "\n",
    "## 按值排序\n",
    "dict2 = {'apple': 10, 'orange':20, 'banana':5}\n",
    "print(sorted(dict2.items(), key=lambda x: x[1], reverse=False))\n",
    "print(sorted(dict2, key=dict2.get))\n",
    "dict2_sort = {list(dict2.keys())[list(dict2.values()).index(i)]:i for i in sorted(dict2.values())}\n",
    "\n",
    "print('*'*10)\n",
    "# 排序后还是字典\n",
    "dict1_sort\n",
    "dict2_sort"
   ]
  },
  {
   "cell_type": "code",
   "execution_count": null,
   "metadata": {},
   "outputs": [],
   "source": [
    "# 字典列表排序\n",
    "b = [{'name': 'wang', 'age': 16}, {'name': 'li', 'age': 10}, {'name': 'li', 'age': 18}]\n",
    "b1 = sorted(b, key=lambda x: x['name'])\n",
    "b2 = sorted(b, key=lambda x: x['age'],  reverse=True)\n",
    "b3 = sorted(b, key=lambda x: (x['name'], -x['age']))\n",
    "print('按name排序:\\n', b1)\n",
    "print('按age排序:\\n', b2)\n",
    "print('name相同按age降序排列:\\n', b3)\n",
    "\n"
   ]
  }
 ],
 "metadata": {
  "kernelspec": {
   "display_name": "Python 3.8.13 ('pytorch1.10')",
   "language": "python",
   "name": "python3"
  },
  "language_info": {
   "name": "python",
   "version": "3.8.13"
  },
  "orig_nbformat": 4,
  "vscode": {
   "interpreter": {
    "hash": "81f6c2e79dcf7df8474ddb565df4942e434c2de3c617602b68d22732d03660af"
   }
  }
 },
 "nbformat": 4,
 "nbformat_minor": 2
}
