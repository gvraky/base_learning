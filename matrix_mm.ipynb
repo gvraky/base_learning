{
 "cells": [
  {
   "cell_type": "code",
   "execution_count": 4,
   "metadata": {},
   "outputs": [
    {
     "name": "stdout",
     "output_type": "stream",
     "text": [
      "matrix_mul函数结果:\n",
      " tensor([[180., 216., 252., 288.],\n",
      "        [180., 216., 252., 288.]])\n",
      "torch.mm函数结果:\n",
      " tensor([[180, 216, 252, 288],\n",
      "        [180, 216, 252, 288]])\n"
     ]
    }
   ],
   "source": [
    "# 完成多个矩阵的叉乘\n",
    "\n",
    "\n",
    "import torch\n",
    "a = torch.tensor([[1, 2], [1, 2]])  # 2*2\n",
    "b = torch.tensor([[3, 4, 5], [3, 4, 5]])  # 2*3\n",
    "c = torch.tensor([[5, 6, 7, 8], [5, 6, 7, 8], [5, 6, 7, 8]])  # 3*4\n",
    "def matrix_mul(*matrix):\n",
    "    for ind, i in enumerate(matrix):\n",
    "        # 只用单位阵乘第一个矩阵 \n",
    "        if ind == 0:\n",
    "            out = torch.eye(matrix[0].shape[0])\n",
    "        out = torch.mm(out, i.float()) \n",
    "    return out\n",
    "\n",
    "    \n",
    "print('matrix_mul函数结果:\\n', matrix_mul(a, b, c)  )  \n",
    "print('torch.mm函数结果:\\n', torch.mm(torch.mm(a, b), c))\n"
   ]
  },
  {
   "cell_type": "code",
   "execution_count": 8,
   "metadata": {},
   "outputs": [
    {
     "name": "stdout",
     "output_type": "stream",
     "text": [
      "点乘结果:\n",
      " [[ 6  8 10]\n",
      " [ 6  8 10]]\n",
      "叉乘结果:\n",
      " [[ 9 12 15]\n",
      " [ 9 12 15]]\n"
     ]
    }
   ],
   "source": [
    "import numpy as np\n",
    "\n",
    "a = np.array([[2], [2]])\n",
    "b = np.array([[3, 4, 5], [3, 4, 5]])\n",
    "c = np.array([[1, 2], [1, 2]])\n",
    "\n",
    "print('点乘结果:\\n', a*b)  \n",
    "print('叉乘结果:\\n', c.dot(b))  # np.dot(c, b)"
   ]
  },
  {
   "cell_type": "code",
   "execution_count": 12,
   "metadata": {},
   "outputs": [
    {
     "data": {
      "text/plain": [
       "tensor([[ 6,  8, 10],\n",
       "        [ 6,  8, 10]])"
      ]
     },
     "execution_count": 12,
     "metadata": {},
     "output_type": "execute_result"
    },
    {
     "data": {
      "text/plain": [
       "tensor([[ 6,  8, 10],\n",
       "        [ 6,  8, 10]])"
      ]
     },
     "execution_count": 12,
     "metadata": {},
     "output_type": "execute_result"
    }
   ],
   "source": [
    "a = torch.tensor([[2], [2]])  # 2*2\n",
    "b = torch.tensor([[3, 4, 5], [3, 4, 5]])  # 2*3\n",
    "torch.multiply(a, b)\n",
    "torch.mul(a, b)"
   ]
  }
 ],
 "metadata": {
  "kernelspec": {
   "display_name": "Python 3.8.13 ('pytorch1.10')",
   "language": "python",
   "name": "python3"
  },
  "language_info": {
   "codemirror_mode": {
    "name": "ipython",
    "version": 3
   },
   "file_extension": ".py",
   "mimetype": "text/x-python",
   "name": "python",
   "nbconvert_exporter": "python",
   "pygments_lexer": "ipython3",
   "version": "3.8.13"
  },
  "orig_nbformat": 4,
  "vscode": {
   "interpreter": {
    "hash": "81f6c2e79dcf7df8474ddb565df4942e434c2de3c617602b68d22732d03660af"
   }
  }
 },
 "nbformat": 4,
 "nbformat_minor": 2
}
